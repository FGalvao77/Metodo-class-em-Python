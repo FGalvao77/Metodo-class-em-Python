{
  "nbformat": 4,
  "nbformat_minor": 0,
  "metadata": {
    "colab": {
      "provenance": [],
      "authorship_tag": "ABX9TyMzOTFS2Gb9t962mtSBlW4M",
      "include_colab_link": true
    },
    "kernelspec": {
      "name": "python3",
      "display_name": "Python 3"
    },
    "language_info": {
      "name": "python"
    }
  },
  "cells": [
    {
      "cell_type": "markdown",
      "metadata": {
        "id": "view-in-github",
        "colab_type": "text"
      },
      "source": [
        "<a href=\"https://colab.research.google.com/github/FGalvao77/Metodo-class-em-Python/blob/main/M%C3%A9todo_%22class%22_em_Python.ipynb\" target=\"_parent\"><img src=\"https://colab.research.google.com/assets/colab-badge.svg\" alt=\"Open In Colab\"/></a>"
      ]
    },
    {
      "cell_type": "markdown",
      "source": [
        "### **Método `class` em _Python_**\n",
        "---\n",
        "---"
      ],
      "metadata": {
        "id": "79-e80UXtqGq"
      }
    },
    {
      "cell_type": "code",
      "source": [
        "import datetime"
      ],
      "metadata": {
        "id": "lwIGJmDUr1Bp"
      },
      "execution_count": 1,
      "outputs": []
    },
    {
      "cell_type": "code",
      "execution_count": 2,
      "metadata": {
        "id": "ywzMh4f3ps6q"
      },
      "outputs": [],
      "source": [
        "class Car:\n",
        "    def __init__(self, make: str, model: str, year: int):\n",
        "        self.make = make \n",
        "        self.model = model\n",
        "        self.year = year\n",
        "\n",
        "    def __repr__(self):\n",
        "        return f'Car: ({self.make}, {self.model}, {self.year})'\n",
        "\n",
        "    @classmethod\n",
        "    def create_from_age(cls, make: str, model: str, age: int) -> int:\n",
        "        year = datetime.datetime.now().year - age\n",
        "        return cls(make, model, year)"
      ]
    },
    {
      "cell_type": "code",
      "source": [
        "car1 = Car('Ford', 'Mustang', 2022)\n",
        "car2 = Car('Tesla', 'Model S', 2020)"
      ],
      "metadata": {
        "id": "NY10p0dPr5Bb"
      },
      "execution_count": 3,
      "outputs": []
    },
    {
      "cell_type": "code",
      "source": [
        "print(car1)\n",
        "print(car2)"
      ],
      "metadata": {
        "colab": {
          "base_uri": "https://localhost:8080/"
        },
        "id": "v98vTZCXsH71",
        "outputId": "f220c86f-0036-47df-d3d0-78c293aab5be"
      },
      "execution_count": 4,
      "outputs": [
        {
          "output_type": "stream",
          "name": "stdout",
          "text": [
            "Car: (Ford, Mustang, 2022)\n",
            "Car: (Tesla, Model S, 2020)\n"
          ]
        }
      ]
    },
    {
      "cell_type": "code",
      "source": [
        "car3 = Car.create_from_age('Honda', 'Civic', 8)\n",
        "car4 = Car.create_from_age('Chevrolet', 'Impala', 13)"
      ],
      "metadata": {
        "id": "RkO4cHrNsH6L"
      },
      "execution_count": 5,
      "outputs": []
    },
    {
      "cell_type": "code",
      "source": [
        "print(car3)\n",
        "print(car4)"
      ],
      "metadata": {
        "colab": {
          "base_uri": "https://localhost:8080/"
        },
        "id": "YdS2ml0KsH1-",
        "outputId": "1693ca6e-a99f-43e1-853f-c92fd3d54ef3"
      },
      "execution_count": 6,
      "outputs": [
        {
          "output_type": "stream",
          "name": "stdout",
          "text": [
            "Car: (Honda, Civic, 2015)\n",
            "Car: (Chevrolet, Impala, 2010)\n"
          ]
        }
      ]
    },
    {
      "cell_type": "code",
      "source": [
        "%whos"
      ],
      "metadata": {
        "colab": {
          "base_uri": "https://localhost:8080/"
        },
        "id": "HXCaOXmJsHzL",
        "outputId": "1520dbfe-85f7-4eff-a713-d6bca4085a4f"
      },
      "execution_count": 7,
      "outputs": [
        {
          "output_type": "stream",
          "name": "stdout",
          "text": [
            "Variable   Type      Data/Info\n",
            "------------------------------\n",
            "Car        type      <class '__main__.Car'>\n",
            "car1       Car       Car: (Ford, Mustang, 2022)\n",
            "car2       Car       Car: (Tesla, Model S, 2020)\n",
            "car3       Car       Car: (Honda, Civic, 2015)\n",
            "car4       Car       Car: (Chevrolet, Impala, 2010)\n",
            "datetime   module    <module 'datetime' from '<...>b/python3.8/datetime.py'>\n"
          ]
        }
      ]
    },
    {
      "cell_type": "code",
      "source": [
        "%who_ls"
      ],
      "metadata": {
        "colab": {
          "base_uri": "https://localhost:8080/"
        },
        "id": "Wb1spAjItX0x",
        "outputId": "29e67bf1-2be2-4b28-b8c6-525fa651feeb"
      },
      "execution_count": 8,
      "outputs": [
        {
          "output_type": "execute_result",
          "data": {
            "text/plain": [
              "['Car', 'car1', 'car2', 'car3', 'car4', 'datetime']"
            ]
          },
          "metadata": {},
          "execution_count": 8
        }
      ]
    },
    {
      "cell_type": "code",
      "source": [],
      "metadata": {
        "id": "HzWTzy6TtXzs"
      },
      "execution_count": 8,
      "outputs": []
    },
    {
      "cell_type": "code",
      "source": [],
      "metadata": {
        "id": "9R_rcLcgtXui"
      },
      "execution_count": 8,
      "outputs": []
    },
    {
      "cell_type": "code",
      "source": [],
      "metadata": {
        "id": "Y9hgTaxHtXr5"
      },
      "execution_count": 8,
      "outputs": []
    }
  ]
}